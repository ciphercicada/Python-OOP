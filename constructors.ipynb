{
 "cells": [
  {
   "cell_type": "code",
   "execution_count": 2,
   "metadata": {},
   "outputs": [
    {
     "name": "stdout",
     "output_type": "stream",
     "text": [
      "Inside constructor\n",
      "All variables are inirtialized\n",
      "Hello my name is John Doe\n"
     ]
    }
   ],
   "source": [
    "# create a constructor\n",
    "\n",
    "class Student:\n",
    "    def __init__(self,name):\n",
    "        print('Inside constructor')\n",
    "        self.name= name\n",
    "        print('All variables are inirtialized')\n",
    "\n",
    "    def show(self):\n",
    "        print('Hello my name is',self.name)\n",
    "\n",
    "# create an object\n",
    "s1 = Student('John Doe')\n",
    "s1.show()"
   ]
  },
  {
   "cell_type": "code",
   "execution_count": 3,
   "metadata": {},
   "outputs": [
    {
     "name": "stdout",
     "output_type": "stream",
     "text": [
      "Inside Display\n"
     ]
    }
   ],
   "source": [
    "class Employee:\n",
    "\n",
    "    def display(self):\n",
    "        print('Inside Display')\n",
    "\n",
    "emp = Employee()\n",
    "emp.display()"
   ]
  },
  {
   "cell_type": "code",
   "execution_count": 4,
   "metadata": {},
   "outputs": [
    {
     "name": "stdout",
     "output_type": "stream",
     "text": [
      "Name: PYnative Address: ABC Street\n"
     ]
    }
   ],
   "source": [
    "class Company:\n",
    "\n",
    "    # no-argument constructor\n",
    "    def __init__(self):\n",
    "        self.name = \"PYnative\"\n",
    "        self.address = \"ABC Street\"\n",
    "\n",
    "    # a method for printing data members\n",
    "    def show(self):\n",
    "        print('Name:', self.name, 'Address:', self.address)\n",
    "\n",
    "# creating object of the class\n",
    "cmp = Company()\n",
    "\n",
    "# calling the instance method using the object\n",
    "cmp.show()"
   ]
  },
  {
   "cell_type": "code",
   "execution_count": 7,
   "metadata": {},
   "outputs": [
    {
     "name": "stdout",
     "output_type": "stream",
     "text": [
      "The student name Emma who is 10 years old and studies in the class 7.\n",
      "The student name John who is 12 years old and studies in the class 8.\n"
     ]
    }
   ],
   "source": [
    "# constructor with default values\n",
    "class Student:\n",
    "    def __init__(self,name,age=10, classroom=7):\n",
    "        self.name = name\n",
    "        self.age = age\n",
    "        self.classroom = classroom\n",
    "\n",
    "    def show(self):\n",
    "        print(f\"The student name {self.name} who is {self.age} years old and studies in the class {self.classroom}.\")\n",
    "\n",
    "\n",
    "s1 = Student('Emma')\n",
    "s1.show()\n",
    "\n",
    "s2 = Student('John',12,8)\n",
    "s2.show()"
   ]
  },
  {
   "cell_type": "code",
   "execution_count": 10,
   "metadata": {},
   "outputs": [
    {
     "ename": "TypeError",
     "evalue": "Student.__init__() missing 1 required positional argument: 'age'",
     "output_type": "error",
     "traceback": [
      "\u001b[1;31m---------------------------------------------------------------------------\u001b[0m",
      "\u001b[1;31mTypeError\u001b[0m                                 Traceback (most recent call last)",
      "Cell \u001b[1;32mIn[10], line 15\u001b[0m\n\u001b[0;32m     12\u001b[0m         \u001b[38;5;28mself\u001b[39m\u001b[38;5;241m.\u001b[39mage \u001b[38;5;241m=\u001b[39m age\n\u001b[0;32m     14\u001b[0m \u001b[38;5;66;03m# creating first object\u001b[39;00m\n\u001b[1;32m---> 15\u001b[0m emma \u001b[38;5;241m=\u001b[39m \u001b[43mStudent\u001b[49m\u001b[43m(\u001b[49m\u001b[38;5;124;43m'\u001b[39;49m\u001b[38;5;124;43mEmma\u001b[39;49m\u001b[38;5;124;43m'\u001b[39;49m\u001b[43m)\u001b[49m\n\u001b[0;32m     17\u001b[0m \u001b[38;5;66;03m# creating Second object\u001b[39;00m\n\u001b[0;32m     18\u001b[0m kelly \u001b[38;5;241m=\u001b[39m Student(\u001b[38;5;124m'\u001b[39m\u001b[38;5;124mKelly\u001b[39m\u001b[38;5;124m'\u001b[39m, \u001b[38;5;241m13\u001b[39m)\n",
      "\u001b[1;31mTypeError\u001b[0m: Student.__init__() missing 1 required positional argument: 'age'"
     ]
    }
   ],
   "source": [
    "# constructor overloading \n",
    "class Student:\n",
    "    # one argument constructor\n",
    "    def __init__(self, name):\n",
    "        print(\"One arguments constructor\")\n",
    "        self.name = name\n",
    "\n",
    "    # two argument constructor\n",
    "    def __init__(self, name, age):\n",
    "        print(\"Two arguments constructor\")\n",
    "        self.name = name\n",
    "        self.age = age\n",
    "\n",
    "# creating first object\n",
    "emma = Student('Emma')\n",
    "\n",
    "# creating Second object\n",
    "kelly = Student('Kelly', 13)\n"
   ]
  },
  {
   "cell_type": "code",
   "execution_count": 14,
   "metadata": {},
   "outputs": [
    {
     "name": "stdout",
     "output_type": "stream",
     "text": [
      "Two arguments constructor\n"
     ]
    }
   ],
   "source": [
    "# constructor overloading \n",
    "class Student:\n",
    "    # one argument constructor\n",
    "    def __init__(self, name):\n",
    "        print(\"One arguments constructor\")\n",
    "        self.name = name\n",
    "\n",
    "    # two argument constructor\n",
    "    def __init__(self, name, age):\n",
    "        print(\"Two arguments constructor\")\n",
    "        self.name = name\n",
    "        self.age = age\n",
    "\n",
    "\n",
    "\n",
    "kelly = Student('Kelly', 13)\n"
   ]
  },
  {
   "cell_type": "code",
   "execution_count": 13,
   "metadata": {},
   "outputs": [
    {
     "ename": "TypeError",
     "evalue": "Student.__init__() takes 2 positional arguments but 3 were given",
     "output_type": "error",
     "traceback": [
      "\u001b[1;31m---------------------------------------------------------------------------\u001b[0m",
      "\u001b[1;31mTypeError\u001b[0m                                 Traceback (most recent call last)",
      "Cell \u001b[1;32mIn[13], line 16\u001b[0m\n\u001b[0;32m     11\u001b[0m         \u001b[38;5;28mself\u001b[39m\u001b[38;5;241m.\u001b[39mname \u001b[38;5;241m=\u001b[39m name\n\u001b[0;32m     12\u001b[0m         \u001b[38;5;28mself\u001b[39m\u001b[38;5;241m.\u001b[39mage \u001b[38;5;241m=\u001b[39m age\n\u001b[1;32m---> 16\u001b[0m kelly \u001b[38;5;241m=\u001b[39m \u001b[43mStudent\u001b[49m\u001b[43m(\u001b[49m\u001b[38;5;124;43m'\u001b[39;49m\u001b[38;5;124;43mKelly\u001b[39;49m\u001b[38;5;124;43m'\u001b[39;49m\u001b[43m,\u001b[49m\u001b[43m \u001b[49m\u001b[38;5;241;43m13\u001b[39;49m\u001b[43m)\u001b[49m\n",
      "\u001b[1;31mTypeError\u001b[0m: Student.__init__() takes 2 positional arguments but 3 were given"
     ]
    }
   ],
   "source": [
    "# constructor overloading \n",
    "class Student:\n",
    "    # one argument constructor\n",
    "    def __init__(self, name,age):\n",
    "        print(\"One arguments constructor\")\n",
    "        self.name = name\n",
    "\n",
    "    # two argument constructor\n",
    "    def __init__(self, name):\n",
    "        print(\"Two arguments constructor\")\n",
    "        self.name = name\n",
    "        self.age = age\n",
    "\n",
    "\n",
    "\n",
    "kelly = Student('Kelly', 13)\n"
   ]
  },
  {
   "cell_type": "code",
   "execution_count": 15,
   "metadata": {},
   "outputs": [
    {
     "name": "stdout",
     "output_type": "stream",
     "text": [
      "Inside Vehicle Connstructor\n",
      "Inside Car Connstructor\n",
      "Inside Electric car constructor\n",
      "Engine = 1500 cc, Max speed = 240, Km range = 750\n"
     ]
    }
   ],
   "source": [
    "#construcor chaining\n",
    "class Vehicle:\n",
    "    def __init__(self,engine):\n",
    "        print(\"Inside Vehicle Connstructor\")\n",
    "        self.engine = engine\n",
    "\n",
    "class Car(Vehicle):\n",
    "    def __init__(self,engine,max_speed):\n",
    "        super().__init__(engine)\n",
    "        print(\"Inside Car Connstructor\")\n",
    "        self.max_speed = max_speed\n",
    "\n",
    "class Electric_Car(Car):\n",
    "    def __init__(self,engine,max_speed,km_range):\n",
    "        super().__init__(engine,max_speed)\n",
    "        print('Inside Electric car constructor')\n",
    "        self.km_range = km_range\n",
    "\n",
    "ev = Electric_Car('1500 cc',240,750)\n",
    "print(f'Engine = {ev.engine}, Max speed = {ev.max_speed}, Km range = {ev.km_range}')"
   ]
  },
  {
   "cell_type": "code",
   "execution_count": 17,
   "metadata": {},
   "outputs": [
    {
     "name": "stdout",
     "output_type": "stream",
     "text": [
      "The number of Employee: 3\n"
     ]
    }
   ],
   "source": [
    "# Counting the number of objects of the class\n",
    "class Employee:\n",
    "    count = 0\n",
    "    def __init__(self):\n",
    "        Employee.count = Employee.count + 1\n",
    "\n",
    "\n",
    "# creating objects\n",
    "e1 = Employee()\n",
    "e2 = Employee()\n",
    "e2 = Employee()\n",
    "print(\"The number of Employee:\", Employee.count)"
   ]
  },
  {
   "cell_type": "code",
   "execution_count": 18,
   "metadata": {},
   "outputs": [
    {
     "ename": "TypeError",
     "evalue": "__init__() should return None, not 'bool'",
     "output_type": "error",
     "traceback": [
      "\u001b[1;31m---------------------------------------------------------------------------\u001b[0m",
      "\u001b[1;31mTypeError\u001b[0m                                 Traceback (most recent call last)",
      "Cell \u001b[1;32mIn[18], line 7\u001b[0m\n\u001b[0;32m      4\u001b[0m         \u001b[38;5;28mself\u001b[39m\u001b[38;5;241m.\u001b[39mid \u001b[38;5;241m=\u001b[39m i\n\u001b[0;32m      5\u001b[0m         \u001b[38;5;28;01mreturn\u001b[39;00m \u001b[38;5;28;01mTrue\u001b[39;00m\n\u001b[1;32m----> 7\u001b[0m d \u001b[38;5;241m=\u001b[39m \u001b[43mTest\u001b[49m\u001b[43m(\u001b[49m\u001b[38;5;241;43m10\u001b[39;49m\u001b[43m)\u001b[49m\n",
      "\u001b[1;31mTypeError\u001b[0m: __init__() should return None, not 'bool'"
     ]
    }
   ],
   "source": [
    "class Test:\n",
    "\n",
    "    def __init__(self, i):\n",
    "        self.id = i\n",
    "        return True\n",
    "\n",
    "d = Test(10)\n"
   ]
  },
  {
   "cell_type": "code",
   "execution_count": null,
   "metadata": {},
   "outputs": [],
   "source": []
  }
 ],
 "metadata": {
  "kernelspec": {
   "display_name": "Python 3",
   "language": "python",
   "name": "python3"
  },
  "language_info": {
   "codemirror_mode": {
    "name": "ipython",
    "version": 3
   },
   "file_extension": ".py",
   "mimetype": "text/x-python",
   "name": "python",
   "nbconvert_exporter": "python",
   "pygments_lexer": "ipython3",
   "version": "3.11.3"
  }
 },
 "nbformat": 4,
 "nbformat_minor": 2
}
