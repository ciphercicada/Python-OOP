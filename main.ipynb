{
 "cells": [
  {
   "cell_type": "code",
   "execution_count": 1,
   "metadata": {},
   "outputs": [
    {
     "name": "stdout",
     "output_type": "stream",
     "text": [
      "test\n"
     ]
    }
   ],
   "source": [
    "print(\"test\")"
   ]
  },
  {
   "cell_type": "code",
   "execution_count": 6,
   "metadata": {},
   "outputs": [
    {
     "name": "stdout",
     "output_type": "stream",
     "text": [
      "The student name is : John Doe and the age of the student is : 19\n"
     ]
    }
   ],
   "source": [
    "class Student:\n",
    "    def __init__(self,name,age):\n",
    "        self.name = name\n",
    "        self.age = age\n",
    "    \n",
    "    def showDetails(self):\n",
    "        print(\"The student name is :\",self.name,\"and the age of the student is :\",self.age)\n",
    "\n",
    "std1 = Student(\"John Doe\",19)\n",
    "\n",
    "std1.showDetails()"
   ]
  },
  {
   "cell_type": "code",
   "execution_count": 7,
   "metadata": {},
   "outputs": [
    {
     "ename": "TypeError",
     "evalue": "Employee() takes no arguments",
     "output_type": "error",
     "traceback": [
      "\u001b[1;31m---------------------------------------------------------------------------\u001b[0m",
      "\u001b[1;31mTypeError\u001b[0m                                 Traceback (most recent call last)",
      "Cell \u001b[1;32mIn[7], line 7\u001b[0m\n\u001b[0;32m      4\u001b[0m         \u001b[38;5;28mself\u001b[39m\u001b[38;5;241m.\u001b[39msalary \u001b[38;5;241m=\u001b[39m salary\n\u001b[0;32m      5\u001b[0m         \u001b[38;5;28mprint\u001b[39m(\u001b[38;5;124m\"\u001b[39m\u001b[38;5;124mThe employee name is :\u001b[39m\u001b[38;5;124m\"\u001b[39m,\u001b[38;5;28mself\u001b[39m\u001b[38;5;241m.\u001b[39mname,\u001b[38;5;124m\"\u001b[39m\u001b[38;5;124mand the salary of the employee is :\u001b[39m\u001b[38;5;124m\"\u001b[39m,\u001b[38;5;28mself\u001b[39m\u001b[38;5;241m.\u001b[39mage)\n\u001b[1;32m----> 7\u001b[0m emp \u001b[38;5;241m=\u001b[39m \u001b[43mEmployee\u001b[49m\u001b[43m(\u001b[49m\u001b[38;5;124;43m\"\u001b[39;49m\u001b[38;5;124;43mJohn Doe\u001b[39;49m\u001b[38;5;124;43m\"\u001b[39;49m\u001b[43m,\u001b[49m\u001b[38;5;241;43m1000\u001b[39;49m\u001b[43m)\u001b[49m\n\u001b[0;32m      9\u001b[0m emp\u001b[38;5;241m.\u001b[39minfo()\n",
      "\u001b[1;31mTypeError\u001b[0m: Employee() takes no arguments"
     ]
    }
   ],
   "source": [
    "class Employee:\n",
    "    def info(self,name,salary):\n",
    "        self.name = name\n",
    "        self.salary = salary\n",
    "        print(\"The employee name is :\",self.name,\"and the salary of the employee is :\",self.salary)\n",
    "\n",
    "emp = Employee(\"John Doe\",1000)\n",
    "\n",
    "emp.info()"
   ]
  },
  {
   "cell_type": "code",
   "execution_count": 9,
   "metadata": {},
   "outputs": [
    {
     "name": "stdout",
     "output_type": "stream",
     "text": [
      "The employee name is : John Doe and the salary of the employee is : 1000\n"
     ]
    }
   ],
   "source": [
    "class Employee:\n",
    "    def info(self,name,salary):\n",
    "        self.name = name\n",
    "        self.salary = salary\n",
    "        print(\"The employee name is :\",self.name,\"and the salary of the employee is :\",self.salary)\n",
    "\n",
    "\n",
    "emp = Employee()\n",
    "\n",
    "emp.info(\"John Doe\",1000)"
   ]
  },
  {
   "cell_type": "code",
   "execution_count": 20,
   "metadata": {},
   "outputs": [
    {
     "name": "stdout",
     "output_type": "stream",
     "text": [
      "The employee id is : 1234 and the employee name is : John Doe\n",
      "20000\n"
     ]
    }
   ],
   "source": [
    "# Encapsulation\n",
    "# Limits the access to the attributes of the employee using '__' making it private \n",
    "class Employee:\n",
    "    def __init__(self,emp_id,name,salary):\n",
    "        self.__emp_id = emp_id # private attribute\n",
    "        self._name = name # protected attribute\n",
    "        self.salary = salary\n",
    "\n",
    "    def info(self):\n",
    "        print(\"The employee id is :\",self.__emp_id,\"and the employee name is :\",self._name)\n",
    "        print(self.salary)\n",
    "\n",
    "emp1 = Employee(1234,\"John Doe\", 20000)\n",
    "\n",
    "emp1.info()"
   ]
  },
  {
   "cell_type": "code",
   "execution_count": 13,
   "metadata": {},
   "outputs": [
    {
     "name": "stdout",
     "output_type": "stream",
     "text": [
      "John Doe\n"
     ]
    },
    {
     "ename": "AttributeError",
     "evalue": "'Employee' object has no attribute '__emp_id'",
     "output_type": "error",
     "traceback": [
      "\u001b[1;31m---------------------------------------------------------------------------\u001b[0m",
      "\u001b[1;31mAttributeError\u001b[0m                            Traceback (most recent call last)",
      "Cell \u001b[1;32mIn[13], line 3\u001b[0m\n\u001b[0;32m      1\u001b[0m \u001b[38;5;66;03m# Direct access to private attribte is restricted results in error\u001b[39;00m\n\u001b[0;32m      2\u001b[0m \u001b[38;5;28mprint\u001b[39m(emp1\u001b[38;5;241m.\u001b[39m_name)\n\u001b[1;32m----> 3\u001b[0m \u001b[38;5;28mprint\u001b[39m(\u001b[43memp1\u001b[49m\u001b[38;5;241;43m.\u001b[39;49m\u001b[43m__emp_id\u001b[49m)\n",
      "\u001b[1;31mAttributeError\u001b[0m: 'Employee' object has no attribute '__emp_id'"
     ]
    }
   ],
   "source": [
    "# Direct access to private attribte outside the class is restricted results in error however protected attributes can be accessed.\n",
    "print(emp1._name)\n",
    "print(emp1.__emp_id)"
   ]
  },
  {
   "cell_type": "code",
   "execution_count": 38,
   "metadata": {},
   "outputs": [
    {
     "name": "stdout",
     "output_type": "stream",
     "text": [
      "The area of circle is 28.259999999999998\n",
      "The area of rectangle is : 20\n",
      "The area of circle is 28.259999999999998\n",
      "The area of rectangle is : 20\n"
     ]
    }
   ],
   "source": [
    "# Polymorphism\n",
    "# When there are multiple classes with the same method names, that is known as polymorphism.\n",
    "class Circle:\n",
    "    pi = 3.14\n",
    "    def __init__(self,radius):\n",
    "        self.radius = radius \n",
    "\n",
    "    def calculate_area(self,area):\n",
    "        area = self.pi * self.radius * self.radius\n",
    "        print(\"The area of circle is\" ,area)\n",
    "    \n",
    "class Rectangle:\n",
    "    def __init__(self,length,breadth):\n",
    "        self.length = length\n",
    "        self.breadth = breadth\n",
    "\n",
    "    def calculate_area(self,area):\n",
    "        area = self.length * self.breadth \n",
    "        print(\"The area of rectangle is :\",area)\n",
    "\n",
    "obj = Circle(3)\n",
    "obj.calculate_area(1)\n",
    "\n",
    "obj1 = Rectangle(5,4)\n",
    "obj1.calculate_area(1)\n",
    "\n",
    "\n",
    "def demo(shape):\n",
    "    shape.calculate_area(1)\n",
    "\n",
    "demo(obj)\n",
    "demo(obj1)"
   ]
  },
  {
   "cell_type": "code",
   "execution_count": 43,
   "metadata": {},
   "outputs": [
    {
     "name": "stdout",
     "output_type": "stream",
     "text": [
      "The model of the car is :  BMW the color is :  black  and the price is :  34586868\n",
      "The car type is XUV\n"
     ]
    }
   ],
   "source": [
    "# Base Class\n",
    "class Vehicle:\n",
    "    def __init__(self,model,color,price):\n",
    "        self.model = model\n",
    "        self.color = color\n",
    "        self.price = price\n",
    "\n",
    "    def info(self):\n",
    "        print(\"The model of the car is : \",self.model,\"the color is : \", self.color,\" and the price is : \",self.price)\n",
    "\n",
    "# Child class\n",
    "class Car(Vehicle):\n",
    "    def car_type(self,type):\n",
    "        self.type =type\n",
    "        print(\"The car type is\", type)\n",
    "\n",
    "obj = Car(\"BMW\",\"black\",34586868)\n",
    "obj.info()\n",
    "obj.car_type(\"XUV\")"
   ]
  },
  {
   "cell_type": "code",
   "execution_count": null,
   "metadata": {},
   "outputs": [],
   "source": []
  }
 ],
 "metadata": {
  "kernelspec": {
   "display_name": "Python 3",
   "language": "python",
   "name": "python3"
  },
  "language_info": {
   "codemirror_mode": {
    "name": "ipython",
    "version": 3
   },
   "file_extension": ".py",
   "mimetype": "text/x-python",
   "name": "python",
   "nbconvert_exporter": "python",
   "pygments_lexer": "ipython3",
   "version": "3.11.3"
  }
 },
 "nbformat": 4,
 "nbformat_minor": 2
}
